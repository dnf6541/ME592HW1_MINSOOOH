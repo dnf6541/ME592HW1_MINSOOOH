{
  "nbformat": 4,
  "nbformat_minor": 0,
  "metadata": {
    "colab": {
      "name": "HW1_2_3_Multi-variate",
      "provenance": [],
      "authorship_tag": "ABX9TyPAMtDXSVhTZzFrHKwlgsDr",
      "include_colab_link": true
    },
    "kernelspec": {
      "name": "python3",
      "display_name": "Python 3"
    },
    "language_info": {
      "name": "python"
    }
  },
  "cells": [
    {
      "cell_type": "markdown",
      "metadata": {
        "id": "view-in-github",
        "colab_type": "text"
      },
      "source": [
        "<a href=\"https://colab.research.google.com/github/dnf6541/ME592HW1_MINSOOOH/blob/main/HW1_2_3_Multi_variate.ipynb\" target=\"_parent\"><img src=\"https://colab.research.google.com/assets/colab-badge.svg\" alt=\"Open In Colab\"/></a>"
      ]
    },
    {
      "cell_type": "code",
      "execution_count": 10,
      "metadata": {
        "colab": {
          "base_uri": "https://localhost:8080/"
        },
        "id": "f4M-PWrtMJ5O",
        "outputId": "8add67a6-7068-42eb-ceaf-97a7aeec1248"
      },
      "outputs": [
        {
          "output_type": "execute_result",
          "data": {
            "text/plain": [
              "array([[8.00000e+02, 1.00000e+03, 1.25000e+03, ..., 4.00000e+03,\n",
              "        5.00000e+03, 6.30000e+03],\n",
              "       [0.00000e+00, 0.00000e+00, 0.00000e+00, ..., 1.56000e+01,\n",
              "        1.56000e+01, 1.56000e+01],\n",
              "       [3.04800e-01, 3.04800e-01, 3.04800e-01, ..., 1.01600e-01,\n",
              "        1.01600e-01, 1.01600e-01],\n",
              "       [7.13000e+01, 7.13000e+01, 7.13000e+01, ..., 3.96000e+01,\n",
              "        3.96000e+01, 3.96000e+01],\n",
              "       [2.66337e-03, 2.66337e-03, 2.66337e-03, ..., 5.28487e-02,\n",
              "        5.28487e-02, 5.28487e-02],\n",
              "       [1.26201e+02, 1.25201e+02, 1.25951e+02, ..., 1.06604e+02,\n",
              "        1.06224e+02, 1.04204e+02]])"
            ]
          },
          "metadata": {},
          "execution_count": 10
        }
      ],
      "source": [
        "import numpy as np\n",
        "import pandas as pd\n",
        "\n",
        "airfoil = np.loadtxt('airfoil_self_noise.dat', unpack = True)\n",
        "airfoil"
      ]
    },
    {
      "cell_type": "code",
      "source": [
        "df_describe = pd.DataFrame(airfoil)\n",
        "df_describe2 = np.transpose(df_describe)\n",
        "df_describe2.columns = ['Frequency(Hz)', 'Angle of attack(Degree)', 'Chord length(m)', 'Free-stream velocity(m/s)', 'Suction side displacement thickness(m)', 'Scaled sound pressure level(decibels)']\n"
      ],
      "metadata": {
        "colab": {
          "base_uri": "https://localhost:8080/"
        },
        "id": "Tx3atLqJOFt-",
        "outputId": "0fa988dc-dab0-4491-ec33-6c55dcd39ade"
      },
      "execution_count": 24,
      "outputs": [
        {
          "output_type": "execute_result",
          "data": {
            "text/plain": [
              "Frequency(Hz)                             4.338230e+06\n",
              "Angle of attack(Degree)                   1.019380e+04\n",
              "Chord length(m)                           2.052320e+02\n",
              "Free-stream velocity(m/s)                 7.644370e+04\n",
              "Suction side displacement thickness(m)    1.674324e+01\n",
              "Scaled sound pressure level(decibels)     1.876284e+05\n",
              "dtype: float64"
            ]
          },
          "metadata": {},
          "execution_count": 24
        }
      ]
    },
    {
      "cell_type": "code",
      "source": [
        "#2.3.1 Mean\n",
        "a = df_describe2.mean()\n",
        "a"
      ],
      "metadata": {
        "colab": {
          "base_uri": "https://localhost:8080/"
        },
        "id": "QdtpKjlnP2rT",
        "outputId": "65f690a9-c620-4fba-c438-ce0f5466fcb4"
      },
      "execution_count": 37,
      "outputs": [
        {
          "output_type": "execute_result",
          "data": {
            "text/plain": [
              "Frequency(Hz)                             2886.380572\n",
              "Angle of attack(Degree)                      6.782302\n",
              "Chord length(m)                              0.136548\n",
              "Free-stream velocity(m/s)                   50.860745\n",
              "Suction side displacement thickness(m)       0.011140\n",
              "Scaled sound pressure level(decibels)      124.835943\n",
              "dtype: float64"
            ]
          },
          "metadata": {},
          "execution_count": 37
        }
      ]
    },
    {
      "cell_type": "code",
      "source": [
        "#2.3.2 Variance(Standard Deviation)\n",
        "b = df_describe2.std()\n",
        "b"
      ],
      "metadata": {
        "colab": {
          "base_uri": "https://localhost:8080/"
        },
        "id": "SZe2RnzlP_Bx",
        "outputId": "bc9de9fe-4918-411f-d9d8-69ba6848fe90"
      },
      "execution_count": 41,
      "outputs": [
        {
          "output_type": "execute_result",
          "data": {
            "text/plain": [
              "Frequency(Hz)                             3152.573137\n",
              "Angle of attack(Degree)                      5.918128\n",
              "Chord length(m)                              0.093541\n",
              "Free-stream velocity(m/s)                   15.572784\n",
              "Suction side displacement thickness(m)       0.013150\n",
              "Scaled sound pressure level(decibels)        6.898657\n",
              "dtype: float64"
            ]
          },
          "metadata": {},
          "execution_count": 41
        }
      ]
    },
    {
      "cell_type": "code",
      "source": [
        "#2.3.3 Median\n",
        "c = df_describe2.median()\n",
        "c"
      ],
      "metadata": {
        "colab": {
          "base_uri": "https://localhost:8080/"
        },
        "id": "LdPakMEHQLPh",
        "outputId": "863c1cd9-5123-473f-dc34-280b0afa3acb"
      },
      "execution_count": 42,
      "outputs": [
        {
          "output_type": "execute_result",
          "data": {
            "text/plain": [
              "Frequency(Hz)                             1600.000000\n",
              "Angle of attack(Degree)                      5.400000\n",
              "Chord length(m)                              0.101600\n",
              "Free-stream velocity(m/s)                   39.600000\n",
              "Suction side displacement thickness(m)       0.004957\n",
              "Scaled sound pressure level(decibels)      125.721000\n",
              "dtype: float64"
            ]
          },
          "metadata": {},
          "execution_count": 42
        }
      ]
    },
    {
      "cell_type": "code",
      "source": [
        "#2.3.4 Kurtosis\n",
        "d = df_describe2.kurt()\n",
        "d"
      ],
      "metadata": {
        "colab": {
          "base_uri": "https://localhost:8080/"
        },
        "id": "gXLjsctvQVEy",
        "outputId": "8ed28701-4526-4447-fa4d-c240fcd55f57"
      },
      "execution_count": 43,
      "outputs": [
        {
          "output_type": "execute_result",
          "data": {
            "text/plain": [
              "Frequency(Hz)                             5.708685\n",
              "Angle of attack(Degree)                  -0.412951\n",
              "Chord length(m)                          -1.037964\n",
              "Free-stream velocity(m/s)                -1.563951\n",
              "Suction side displacement thickness(m)    2.218903\n",
              "Scaled sound pressure level(decibels)    -0.314187\n",
              "dtype: float64"
            ]
          },
          "metadata": {},
          "execution_count": 43
        }
      ]
    },
    {
      "cell_type": "code",
      "source": [
        "#2.3.5 Skewness\n",
        "e = df_describe2.skew()\n",
        "e"
      ],
      "metadata": {
        "colab": {
          "base_uri": "https://localhost:8080/"
        },
        "id": "r4_NOM_lQj2K",
        "outputId": "1199f11c-8d6a-4d96-a9b9-cf2aa8c7d822"
      },
      "execution_count": 44,
      "outputs": [
        {
          "output_type": "execute_result",
          "data": {
            "text/plain": [
              "Frequency(Hz)                             2.137084\n",
              "Angle of attack(Degree)                   0.689164\n",
              "Chord length(m)                           0.457457\n",
              "Free-stream velocity(m/s)                 0.235852\n",
              "Suction side displacement thickness(m)    1.702165\n",
              "Scaled sound pressure level(decibels)    -0.418952\n",
              "dtype: float64"
            ]
          },
          "metadata": {},
          "execution_count": 44
        }
      ]
    },
    {
      "cell_type": "code",
      "source": [
        "#2.3.6 Range\n",
        "df_describe2.describe(include='all')"
      ],
      "metadata": {
        "colab": {
          "base_uri": "https://localhost:8080/",
          "height": 300
        },
        "id": "48lZSzSRQuMr",
        "outputId": "65463f7a-8147-43b7-bbe1-d5b971dd79c6"
      },
      "execution_count": 35,
      "outputs": [
        {
          "output_type": "execute_result",
          "data": {
            "text/html": [
              "\n",
              "  <div id=\"df-4858f466-7977-4afc-903b-0e7bf984bec3\">\n",
              "    <div class=\"colab-df-container\">\n",
              "      <div>\n",
              "<style scoped>\n",
              "    .dataframe tbody tr th:only-of-type {\n",
              "        vertical-align: middle;\n",
              "    }\n",
              "\n",
              "    .dataframe tbody tr th {\n",
              "        vertical-align: top;\n",
              "    }\n",
              "\n",
              "    .dataframe thead th {\n",
              "        text-align: right;\n",
              "    }\n",
              "</style>\n",
              "<table border=\"1\" class=\"dataframe\">\n",
              "  <thead>\n",
              "    <tr style=\"text-align: right;\">\n",
              "      <th></th>\n",
              "      <th>Frequency(Hz)</th>\n",
              "      <th>Angle of attack(Degree)</th>\n",
              "      <th>Chord length(m)</th>\n",
              "      <th>Free-stream velocity(m/s)</th>\n",
              "      <th>Suction side displacement thickness(m)</th>\n",
              "      <th>Scaled sound pressure level(decibels)</th>\n",
              "    </tr>\n",
              "  </thead>\n",
              "  <tbody>\n",
              "    <tr>\n",
              "      <th>count</th>\n",
              "      <td>1503.000000</td>\n",
              "      <td>1503.000000</td>\n",
              "      <td>1503.000000</td>\n",
              "      <td>1503.000000</td>\n",
              "      <td>1503.000000</td>\n",
              "      <td>1503.000000</td>\n",
              "    </tr>\n",
              "    <tr>\n",
              "      <th>mean</th>\n",
              "      <td>2886.380572</td>\n",
              "      <td>6.782302</td>\n",
              "      <td>0.136548</td>\n",
              "      <td>50.860745</td>\n",
              "      <td>0.011140</td>\n",
              "      <td>124.835943</td>\n",
              "    </tr>\n",
              "    <tr>\n",
              "      <th>std</th>\n",
              "      <td>3152.573137</td>\n",
              "      <td>5.918128</td>\n",
              "      <td>0.093541</td>\n",
              "      <td>15.572784</td>\n",
              "      <td>0.013150</td>\n",
              "      <td>6.898657</td>\n",
              "    </tr>\n",
              "    <tr>\n",
              "      <th>min</th>\n",
              "      <td>200.000000</td>\n",
              "      <td>0.000000</td>\n",
              "      <td>0.025400</td>\n",
              "      <td>31.700000</td>\n",
              "      <td>0.000401</td>\n",
              "      <td>103.380000</td>\n",
              "    </tr>\n",
              "    <tr>\n",
              "      <th>25%</th>\n",
              "      <td>800.000000</td>\n",
              "      <td>2.000000</td>\n",
              "      <td>0.050800</td>\n",
              "      <td>39.600000</td>\n",
              "      <td>0.002535</td>\n",
              "      <td>120.191000</td>\n",
              "    </tr>\n",
              "    <tr>\n",
              "      <th>50%</th>\n",
              "      <td>1600.000000</td>\n",
              "      <td>5.400000</td>\n",
              "      <td>0.101600</td>\n",
              "      <td>39.600000</td>\n",
              "      <td>0.004957</td>\n",
              "      <td>125.721000</td>\n",
              "    </tr>\n",
              "    <tr>\n",
              "      <th>75%</th>\n",
              "      <td>4000.000000</td>\n",
              "      <td>9.900000</td>\n",
              "      <td>0.228600</td>\n",
              "      <td>71.300000</td>\n",
              "      <td>0.015576</td>\n",
              "      <td>129.995500</td>\n",
              "    </tr>\n",
              "    <tr>\n",
              "      <th>max</th>\n",
              "      <td>20000.000000</td>\n",
              "      <td>22.200000</td>\n",
              "      <td>0.304800</td>\n",
              "      <td>71.300000</td>\n",
              "      <td>0.058411</td>\n",
              "      <td>140.987000</td>\n",
              "    </tr>\n",
              "  </tbody>\n",
              "</table>\n",
              "</div>\n",
              "      <button class=\"colab-df-convert\" onclick=\"convertToInteractive('df-4858f466-7977-4afc-903b-0e7bf984bec3')\"\n",
              "              title=\"Convert this dataframe to an interactive table.\"\n",
              "              style=\"display:none;\">\n",
              "        \n",
              "  <svg xmlns=\"http://www.w3.org/2000/svg\" height=\"24px\"viewBox=\"0 0 24 24\"\n",
              "       width=\"24px\">\n",
              "    <path d=\"M0 0h24v24H0V0z\" fill=\"none\"/>\n",
              "    <path d=\"M18.56 5.44l.94 2.06.94-2.06 2.06-.94-2.06-.94-.94-2.06-.94 2.06-2.06.94zm-11 1L8.5 8.5l.94-2.06 2.06-.94-2.06-.94L8.5 2.5l-.94 2.06-2.06.94zm10 10l.94 2.06.94-2.06 2.06-.94-2.06-.94-.94-2.06-.94 2.06-2.06.94z\"/><path d=\"M17.41 7.96l-1.37-1.37c-.4-.4-.92-.59-1.43-.59-.52 0-1.04.2-1.43.59L10.3 9.45l-7.72 7.72c-.78.78-.78 2.05 0 2.83L4 21.41c.39.39.9.59 1.41.59.51 0 1.02-.2 1.41-.59l7.78-7.78 2.81-2.81c.8-.78.8-2.07 0-2.86zM5.41 20L4 18.59l7.72-7.72 1.47 1.35L5.41 20z\"/>\n",
              "  </svg>\n",
              "      </button>\n",
              "      \n",
              "  <style>\n",
              "    .colab-df-container {\n",
              "      display:flex;\n",
              "      flex-wrap:wrap;\n",
              "      gap: 12px;\n",
              "    }\n",
              "\n",
              "    .colab-df-convert {\n",
              "      background-color: #E8F0FE;\n",
              "      border: none;\n",
              "      border-radius: 50%;\n",
              "      cursor: pointer;\n",
              "      display: none;\n",
              "      fill: #1967D2;\n",
              "      height: 32px;\n",
              "      padding: 0 0 0 0;\n",
              "      width: 32px;\n",
              "    }\n",
              "\n",
              "    .colab-df-convert:hover {\n",
              "      background-color: #E2EBFA;\n",
              "      box-shadow: 0px 1px 2px rgba(60, 64, 67, 0.3), 0px 1px 3px 1px rgba(60, 64, 67, 0.15);\n",
              "      fill: #174EA6;\n",
              "    }\n",
              "\n",
              "    [theme=dark] .colab-df-convert {\n",
              "      background-color: #3B4455;\n",
              "      fill: #D2E3FC;\n",
              "    }\n",
              "\n",
              "    [theme=dark] .colab-df-convert:hover {\n",
              "      background-color: #434B5C;\n",
              "      box-shadow: 0px 1px 3px 1px rgba(0, 0, 0, 0.15);\n",
              "      filter: drop-shadow(0px 1px 2px rgba(0, 0, 0, 0.3));\n",
              "      fill: #FFFFFF;\n",
              "    }\n",
              "  </style>\n",
              "\n",
              "      <script>\n",
              "        const buttonEl =\n",
              "          document.querySelector('#df-4858f466-7977-4afc-903b-0e7bf984bec3 button.colab-df-convert');\n",
              "        buttonEl.style.display =\n",
              "          google.colab.kernel.accessAllowed ? 'block' : 'none';\n",
              "\n",
              "        async function convertToInteractive(key) {\n",
              "          const element = document.querySelector('#df-4858f466-7977-4afc-903b-0e7bf984bec3');\n",
              "          const dataTable =\n",
              "            await google.colab.kernel.invokeFunction('convertToInteractive',\n",
              "                                                     [key], {});\n",
              "          if (!dataTable) return;\n",
              "\n",
              "          const docLinkHtml = 'Like what you see? Visit the ' +\n",
              "            '<a target=\"_blank\" href=https://colab.research.google.com/notebooks/data_table.ipynb>data table notebook</a>'\n",
              "            + ' to learn more about interactive tables.';\n",
              "          element.innerHTML = '';\n",
              "          dataTable['output_type'] = 'display_data';\n",
              "          await google.colab.output.renderOutput(dataTable, element);\n",
              "          const docLink = document.createElement('div');\n",
              "          docLink.innerHTML = docLinkHtml;\n",
              "          element.appendChild(docLink);\n",
              "        }\n",
              "      </script>\n",
              "    </div>\n",
              "  </div>\n",
              "  "
            ],
            "text/plain": [
              "       Frequency(Hz)  ...  Scaled sound pressure level(decibels)\n",
              "count    1503.000000  ...                            1503.000000\n",
              "mean     2886.380572  ...                             124.835943\n",
              "std      3152.573137  ...                               6.898657\n",
              "min       200.000000  ...                             103.380000\n",
              "25%       800.000000  ...                             120.191000\n",
              "50%      1600.000000  ...                             125.721000\n",
              "75%      4000.000000  ...                             129.995500\n",
              "max     20000.000000  ...                             140.987000\n",
              "\n",
              "[8 rows x 6 columns]"
            ]
          },
          "metadata": {},
          "execution_count": 35
        }
      ]
    },
    {
      "cell_type": "code",
      "source": [
        "print(\"\\n----------- Minimum -----------\\n\")\n",
        "print(df_describe2.min())\n",
        "f = df_describe2.min() \n",
        "print(\"\\n----------- Maximum -----------\\n\")\n",
        "print(df_describe2.max())\n",
        "g = df_describe2.max() \n"
      ],
      "metadata": {
        "colab": {
          "base_uri": "https://localhost:8080/"
        },
        "id": "BzkIFwPNRtPc",
        "outputId": "0e09128d-0aed-48cc-d37a-579384242e92"
      },
      "execution_count": 45,
      "outputs": [
        {
          "output_type": "stream",
          "name": "stdout",
          "text": [
            "\n",
            "----------- Minimum -----------\n",
            "\n",
            "Frequency(Hz)                             200.000000\n",
            "Angle of attack(Degree)                     0.000000\n",
            "Chord length(m)                             0.025400\n",
            "Free-stream velocity(m/s)                  31.700000\n",
            "Suction side displacement thickness(m)      0.000401\n",
            "Scaled sound pressure level(decibels)     103.380000\n",
            "dtype: float64\n",
            "\n",
            "----------- Maximum -----------\n",
            "\n",
            "Frequency(Hz)                             20000.000000\n",
            "Angle of attack(Degree)                      22.200000\n",
            "Chord length(m)                               0.304800\n",
            "Free-stream velocity(m/s)                    71.300000\n",
            "Suction side displacement thickness(m)        0.058411\n",
            "Scaled sound pressure level(decibels)       140.987000\n",
            "dtype: float64\n"
          ]
        }
      ]
    },
    {
      "cell_type": "code",
      "source": [
        "# Answer table\n",
        "answer = pd.concat([a,b,c,d,e,f,g], axis=1)\n",
        "answer['Range'] = answer[6] - answer[5]\n",
        "answer.columns = ['Mean', 'Standard Deviation', 'Median', 'Kurtosis', 'Skewness', 'Min', 'Max', 'Range']\n",
        "\n",
        "answer"
      ],
      "metadata": {
        "colab": {
          "base_uri": "https://localhost:8080/",
          "height": 238
        },
        "id": "hTJdVv0JSjJH",
        "outputId": "6eaa1198-a705-45f6-e177-0b21740f81a4"
      },
      "execution_count": 50,
      "outputs": [
        {
          "output_type": "execute_result",
          "data": {
            "text/html": [
              "\n",
              "  <div id=\"df-9c92936c-6ddf-40d4-8c5d-13ef8bb09fcd\">\n",
              "    <div class=\"colab-df-container\">\n",
              "      <div>\n",
              "<style scoped>\n",
              "    .dataframe tbody tr th:only-of-type {\n",
              "        vertical-align: middle;\n",
              "    }\n",
              "\n",
              "    .dataframe tbody tr th {\n",
              "        vertical-align: top;\n",
              "    }\n",
              "\n",
              "    .dataframe thead th {\n",
              "        text-align: right;\n",
              "    }\n",
              "</style>\n",
              "<table border=\"1\" class=\"dataframe\">\n",
              "  <thead>\n",
              "    <tr style=\"text-align: right;\">\n",
              "      <th></th>\n",
              "      <th>Mean</th>\n",
              "      <th>Standard Deviation</th>\n",
              "      <th>Median</th>\n",
              "      <th>Kurtosis</th>\n",
              "      <th>Skewness</th>\n",
              "      <th>Min</th>\n",
              "      <th>Max</th>\n",
              "      <th>Range</th>\n",
              "    </tr>\n",
              "  </thead>\n",
              "  <tbody>\n",
              "    <tr>\n",
              "      <th>Frequency(Hz)</th>\n",
              "      <td>2886.380572</td>\n",
              "      <td>3152.573137</td>\n",
              "      <td>1600.000000</td>\n",
              "      <td>5.708685</td>\n",
              "      <td>2.137084</td>\n",
              "      <td>200.000000</td>\n",
              "      <td>20000.000000</td>\n",
              "      <td>19800.000000</td>\n",
              "    </tr>\n",
              "    <tr>\n",
              "      <th>Angle of attack(Degree)</th>\n",
              "      <td>6.782302</td>\n",
              "      <td>5.918128</td>\n",
              "      <td>5.400000</td>\n",
              "      <td>-0.412951</td>\n",
              "      <td>0.689164</td>\n",
              "      <td>0.000000</td>\n",
              "      <td>22.200000</td>\n",
              "      <td>22.200000</td>\n",
              "    </tr>\n",
              "    <tr>\n",
              "      <th>Chord length(m)</th>\n",
              "      <td>0.136548</td>\n",
              "      <td>0.093541</td>\n",
              "      <td>0.101600</td>\n",
              "      <td>-1.037964</td>\n",
              "      <td>0.457457</td>\n",
              "      <td>0.025400</td>\n",
              "      <td>0.304800</td>\n",
              "      <td>0.279400</td>\n",
              "    </tr>\n",
              "    <tr>\n",
              "      <th>Free-stream velocity(m/s)</th>\n",
              "      <td>50.860745</td>\n",
              "      <td>15.572784</td>\n",
              "      <td>39.600000</td>\n",
              "      <td>-1.563951</td>\n",
              "      <td>0.235852</td>\n",
              "      <td>31.700000</td>\n",
              "      <td>71.300000</td>\n",
              "      <td>39.600000</td>\n",
              "    </tr>\n",
              "    <tr>\n",
              "      <th>Suction side displacement thickness(m)</th>\n",
              "      <td>0.011140</td>\n",
              "      <td>0.013150</td>\n",
              "      <td>0.004957</td>\n",
              "      <td>2.218903</td>\n",
              "      <td>1.702165</td>\n",
              "      <td>0.000401</td>\n",
              "      <td>0.058411</td>\n",
              "      <td>0.058011</td>\n",
              "    </tr>\n",
              "    <tr>\n",
              "      <th>Scaled sound pressure level(decibels)</th>\n",
              "      <td>124.835943</td>\n",
              "      <td>6.898657</td>\n",
              "      <td>125.721000</td>\n",
              "      <td>-0.314187</td>\n",
              "      <td>-0.418952</td>\n",
              "      <td>103.380000</td>\n",
              "      <td>140.987000</td>\n",
              "      <td>37.607000</td>\n",
              "    </tr>\n",
              "  </tbody>\n",
              "</table>\n",
              "</div>\n",
              "      <button class=\"colab-df-convert\" onclick=\"convertToInteractive('df-9c92936c-6ddf-40d4-8c5d-13ef8bb09fcd')\"\n",
              "              title=\"Convert this dataframe to an interactive table.\"\n",
              "              style=\"display:none;\">\n",
              "        \n",
              "  <svg xmlns=\"http://www.w3.org/2000/svg\" height=\"24px\"viewBox=\"0 0 24 24\"\n",
              "       width=\"24px\">\n",
              "    <path d=\"M0 0h24v24H0V0z\" fill=\"none\"/>\n",
              "    <path d=\"M18.56 5.44l.94 2.06.94-2.06 2.06-.94-2.06-.94-.94-2.06-.94 2.06-2.06.94zm-11 1L8.5 8.5l.94-2.06 2.06-.94-2.06-.94L8.5 2.5l-.94 2.06-2.06.94zm10 10l.94 2.06.94-2.06 2.06-.94-2.06-.94-.94-2.06-.94 2.06-2.06.94z\"/><path d=\"M17.41 7.96l-1.37-1.37c-.4-.4-.92-.59-1.43-.59-.52 0-1.04.2-1.43.59L10.3 9.45l-7.72 7.72c-.78.78-.78 2.05 0 2.83L4 21.41c.39.39.9.59 1.41.59.51 0 1.02-.2 1.41-.59l7.78-7.78 2.81-2.81c.8-.78.8-2.07 0-2.86zM5.41 20L4 18.59l7.72-7.72 1.47 1.35L5.41 20z\"/>\n",
              "  </svg>\n",
              "      </button>\n",
              "      \n",
              "  <style>\n",
              "    .colab-df-container {\n",
              "      display:flex;\n",
              "      flex-wrap:wrap;\n",
              "      gap: 12px;\n",
              "    }\n",
              "\n",
              "    .colab-df-convert {\n",
              "      background-color: #E8F0FE;\n",
              "      border: none;\n",
              "      border-radius: 50%;\n",
              "      cursor: pointer;\n",
              "      display: none;\n",
              "      fill: #1967D2;\n",
              "      height: 32px;\n",
              "      padding: 0 0 0 0;\n",
              "      width: 32px;\n",
              "    }\n",
              "\n",
              "    .colab-df-convert:hover {\n",
              "      background-color: #E2EBFA;\n",
              "      box-shadow: 0px 1px 2px rgba(60, 64, 67, 0.3), 0px 1px 3px 1px rgba(60, 64, 67, 0.15);\n",
              "      fill: #174EA6;\n",
              "    }\n",
              "\n",
              "    [theme=dark] .colab-df-convert {\n",
              "      background-color: #3B4455;\n",
              "      fill: #D2E3FC;\n",
              "    }\n",
              "\n",
              "    [theme=dark] .colab-df-convert:hover {\n",
              "      background-color: #434B5C;\n",
              "      box-shadow: 0px 1px 3px 1px rgba(0, 0, 0, 0.15);\n",
              "      filter: drop-shadow(0px 1px 2px rgba(0, 0, 0, 0.3));\n",
              "      fill: #FFFFFF;\n",
              "    }\n",
              "  </style>\n",
              "\n",
              "      <script>\n",
              "        const buttonEl =\n",
              "          document.querySelector('#df-9c92936c-6ddf-40d4-8c5d-13ef8bb09fcd button.colab-df-convert');\n",
              "        buttonEl.style.display =\n",
              "          google.colab.kernel.accessAllowed ? 'block' : 'none';\n",
              "\n",
              "        async function convertToInteractive(key) {\n",
              "          const element = document.querySelector('#df-9c92936c-6ddf-40d4-8c5d-13ef8bb09fcd');\n",
              "          const dataTable =\n",
              "            await google.colab.kernel.invokeFunction('convertToInteractive',\n",
              "                                                     [key], {});\n",
              "          if (!dataTable) return;\n",
              "\n",
              "          const docLinkHtml = 'Like what you see? Visit the ' +\n",
              "            '<a target=\"_blank\" href=https://colab.research.google.com/notebooks/data_table.ipynb>data table notebook</a>'\n",
              "            + ' to learn more about interactive tables.';\n",
              "          element.innerHTML = '';\n",
              "          dataTable['output_type'] = 'display_data';\n",
              "          await google.colab.output.renderOutput(dataTable, element);\n",
              "          const docLink = document.createElement('div');\n",
              "          docLink.innerHTML = docLinkHtml;\n",
              "          element.appendChild(docLink);\n",
              "        }\n",
              "      </script>\n",
              "    </div>\n",
              "  </div>\n",
              "  "
            ],
            "text/plain": [
              "                                               Mean  ...         Range\n",
              "Frequency(Hz)                           2886.380572  ...  19800.000000\n",
              "Angle of attack(Degree)                    6.782302  ...     22.200000\n",
              "Chord length(m)                            0.136548  ...      0.279400\n",
              "Free-stream velocity(m/s)                 50.860745  ...     39.600000\n",
              "Suction side displacement thickness(m)     0.011140  ...      0.058011\n",
              "Scaled sound pressure level(decibels)    124.835943  ...     37.607000\n",
              "\n",
              "[6 rows x 8 columns]"
            ]
          },
          "metadata": {},
          "execution_count": 50
        }
      ]
    }
  ]
}